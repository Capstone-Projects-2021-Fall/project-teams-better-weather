{
 "cells": [
  {
   "cell_type": "code",
   "execution_count": 2,
   "metadata": {},
   "outputs": [],
   "source": [
    "import numpy as np\n",
    "import pandas as pd\n",
    "import tensorflow as tf\n",
    "from tensorflow import keras\n",
    "from tensorflow.keras import layers       \n",
    "from sklearn.preprocessing import MinMaxScaler\n",
    "import matplotlib.pyplot as plt"
   ]
  },
  {
   "cell_type": "code",
   "execution_count": 4,
   "metadata": {},
   "outputs": [
    {
     "data": {
      "text/html": [
       "<div>\n",
       "<style scoped>\n",
       "    .dataframe tbody tr th:only-of-type {\n",
       "        vertical-align: middle;\n",
       "    }\n",
       "\n",
       "    .dataframe tbody tr th {\n",
       "        vertical-align: top;\n",
       "    }\n",
       "\n",
       "    .dataframe thead th {\n",
       "        text-align: right;\n",
       "    }\n",
       "</style>\n",
       "<table border=\"1\" class=\"dataframe\">\n",
       "  <thead>\n",
       "    <tr style=\"text-align: right;\">\n",
       "      <th></th>\n",
       "      <th>DATE</th>\n",
       "      <th>Dry Bulb Temp</th>\n",
       "      <th>Altitude</th>\n",
       "      <th>Dew Point Temp</th>\n",
       "      <th>Precipitation</th>\n",
       "      <th>Humidity</th>\n",
       "      <th>Station Pressure</th>\n",
       "      <th>Visibility</th>\n",
       "      <th>Wet Bulb Temp</th>\n",
       "      <th>Wind Direction</th>\n",
       "      <th>Wind Speed</th>\n",
       "    </tr>\n",
       "  </thead>\n",
       "  <tbody>\n",
       "    <tr>\n",
       "      <th>0</th>\n",
       "      <td>01.01.2018 00:54</td>\n",
       "      <td>10.0</td>\n",
       "      <td>30.41</td>\n",
       "      <td>-5.0</td>\n",
       "      <td>0.0</td>\n",
       "      <td>50.0</td>\n",
       "      <td>30.38</td>\n",
       "      <td>10.00</td>\n",
       "      <td>7.0</td>\n",
       "      <td>300.0</td>\n",
       "      <td>6.0</td>\n",
       "    </tr>\n",
       "    <tr>\n",
       "      <th>1</th>\n",
       "      <td>01.01.2018 01:00</td>\n",
       "      <td>10.0</td>\n",
       "      <td>NaN</td>\n",
       "      <td>-5.0</td>\n",
       "      <td>0.0</td>\n",
       "      <td>50.0</td>\n",
       "      <td>30.35</td>\n",
       "      <td>9.94</td>\n",
       "      <td>7.0</td>\n",
       "      <td>300.0</td>\n",
       "      <td>6.0</td>\n",
       "    </tr>\n",
       "    <tr>\n",
       "      <th>2</th>\n",
       "      <td>01.01.2018 01:54</td>\n",
       "      <td>9.0</td>\n",
       "      <td>30.42</td>\n",
       "      <td>-5.0</td>\n",
       "      <td>0.0</td>\n",
       "      <td>52.0</td>\n",
       "      <td>30.39</td>\n",
       "      <td>10.00</td>\n",
       "      <td>7.0</td>\n",
       "      <td>320.0</td>\n",
       "      <td>7.0</td>\n",
       "    </tr>\n",
       "    <tr>\n",
       "      <th>3</th>\n",
       "      <td>01.01.2018 02:54</td>\n",
       "      <td>10.0</td>\n",
       "      <td>30.42</td>\n",
       "      <td>-6.0</td>\n",
       "      <td>0.0</td>\n",
       "      <td>48.0</td>\n",
       "      <td>30.39</td>\n",
       "      <td>10.00</td>\n",
       "      <td>7.0</td>\n",
       "      <td>310.0</td>\n",
       "      <td>8.0</td>\n",
       "    </tr>\n",
       "    <tr>\n",
       "      <th>4</th>\n",
       "      <td>01.01.2018 03:54</td>\n",
       "      <td>9.0</td>\n",
       "      <td>30.42</td>\n",
       "      <td>-6.0</td>\n",
       "      <td>0.0</td>\n",
       "      <td>50.0</td>\n",
       "      <td>30.39</td>\n",
       "      <td>10.00</td>\n",
       "      <td>6.0</td>\n",
       "      <td>310.0</td>\n",
       "      <td>7.0</td>\n",
       "    </tr>\n",
       "  </tbody>\n",
       "</table>\n",
       "</div>"
      ],
      "text/plain": [
       "               DATE  Dry Bulb Temp  Altitude  Dew Point Temp  Precipitation  \\\n",
       "0  01.01.2018 00:54           10.0     30.41            -5.0            0.0   \n",
       "1  01.01.2018 01:00           10.0       NaN            -5.0            0.0   \n",
       "2  01.01.2018 01:54            9.0     30.42            -5.0            0.0   \n",
       "3  01.01.2018 02:54           10.0     30.42            -6.0            0.0   \n",
       "4  01.01.2018 03:54            9.0     30.42            -6.0            0.0   \n",
       "\n",
       "   Humidity  Station Pressure  Visibility  Wet Bulb Temp  Wind Direction  \\\n",
       "0      50.0             30.38       10.00            7.0           300.0   \n",
       "1      50.0             30.35        9.94            7.0           300.0   \n",
       "2      52.0             30.39       10.00            7.0           320.0   \n",
       "3      48.0             30.39       10.00            7.0           310.0   \n",
       "4      50.0             30.39       10.00            6.0           310.0   \n",
       "\n",
       "   Wind Speed  \n",
       "0         6.0  \n",
       "1         6.0  \n",
       "2         7.0  \n",
       "3         8.0  \n",
       "4         7.0  "
      ]
     },
     "execution_count": 4,
     "metadata": {},
     "output_type": "execute_result"
    }
   ],
   "source": [
    "df = pd.read_csv(\"data/philly.csv\")\n",
    "df.drop('Sunrise', inplace=True, axis=1)\n",
    "df.drop('Sunset', inplace=True, axis=1)\n",
    "df.drop('Sky Conditions', inplace=True, axis=1)\n",
    "df.drop('Pressure Change', inplace=True, axis=1)\n",
    "df.drop('Pressure Tendency', inplace=True, axis=1)\n",
    "df['Precipitation'] = df[\"Precipitation\"].fillna(0)\n",
    "df.head()"
   ]
  },
  {
   "cell_type": "code",
   "execution_count": 5,
   "metadata": {},
   "outputs": [
    {
     "data": {
      "text/plain": [
       "DATE                40590\n",
       "Dry Bulb Temp       39447\n",
       "Altitude            35099\n",
       "Dew Point Temp      39445\n",
       "Precipitation       40590\n",
       "Humidity            39445\n",
       "Station Pressure    39124\n",
       "Visibility          39452\n",
       "Wet Bulb Temp       39122\n",
       "Wind Direction      38391\n",
       "Wind Speed          39448\n",
       "dtype: int64"
      ]
     },
     "execution_count": 5,
     "metadata": {},
     "output_type": "execute_result"
    }
   ],
   "source": [
    "df.count()"
   ]
  },
  {
   "cell_type": "code",
   "execution_count": 6,
   "metadata": {},
   "outputs": [],
   "source": [
    "keys = [\n",
    "    \"Dry Bulb Temp\",\n",
    "    \"Altitude\",\n",
    "    \"Dew Point Temp\",\n",
    "    \"Precipitation\",\n",
    "    \"Humidity\",\n",
    "    \"Station Pressure\",\n",
    "    \"Visibility\",\n",
    "    \"Wet Bulb Temp\",\n",
    "    \"Wind Direction\",\n",
    "    \"Wind Speed\",\n",
    "]"
   ]
  },
  {
   "cell_type": "code",
   "execution_count": 7,
   "metadata": {},
   "outputs": [
    {
     "data": {
      "text/plain": [
       "DATE                33827\n",
       "Dry Bulb Temp       33827\n",
       "Altitude            33827\n",
       "Dew Point Temp      33827\n",
       "Precipitation       33827\n",
       "Humidity            33827\n",
       "Station Pressure    33827\n",
       "Visibility          33827\n",
       "Wet Bulb Temp       33827\n",
       "Wind Direction      33827\n",
       "Wind Speed          33827\n",
       "dtype: int64"
      ]
     },
     "execution_count": 7,
     "metadata": {},
     "output_type": "execute_result"
    }
   ],
   "source": [
    "df = df.dropna(how='any',axis=0)\n",
    "df.count()"
   ]
  },
  {
   "cell_type": "code",
   "execution_count": 8,
   "metadata": {},
   "outputs": [
    {
     "data": {
      "text/plain": [
       "DATE                 object\n",
       "Dry Bulb Temp       float64\n",
       "Altitude            float64\n",
       "Dew Point Temp      float64\n",
       "Precipitation       float64\n",
       "Humidity            float64\n",
       "Station Pressure    float64\n",
       "Visibility          float64\n",
       "Wet Bulb Temp       float64\n",
       "Wind Direction      float64\n",
       "Wind Speed          float64\n",
       "dtype: object"
      ]
     },
     "execution_count": 8,
     "metadata": {},
     "output_type": "execute_result"
    }
   ],
   "source": [
    "df.dtypes"
   ]
  },
  {
   "cell_type": "code",
   "execution_count": 9,
   "metadata": {},
   "outputs": [
    {
     "name": "stdout",
     "output_type": "stream",
     "text": [
      "Dry Bulb Temp\n",
      "Altitude\n",
      "Dew Point Temp\n",
      "Precipitation\n",
      "Humidity\n",
      "Station Pressure\n",
      "Visibility\n",
      "Wet Bulb Temp\n",
      "Wind Direction\n",
      "Wind Speed\n"
     ]
    }
   ],
   "source": [
    "for key in keys[0:]:\n",
    "    print(key)\n",
    "    df[key] = df[key].astype(float)"
   ]
  },
  {
   "cell_type": "code",
   "execution_count": 10,
   "metadata": {
    "scrolled": true
   },
   "outputs": [
    {
     "data": {
      "text/html": [
       "<div>\n",
       "<style scoped>\n",
       "    .dataframe tbody tr th:only-of-type {\n",
       "        vertical-align: middle;\n",
       "    }\n",
       "\n",
       "    .dataframe tbody tr th {\n",
       "        vertical-align: top;\n",
       "    }\n",
       "\n",
       "    .dataframe thead th {\n",
       "        text-align: right;\n",
       "    }\n",
       "</style>\n",
       "<table border=\"1\" class=\"dataframe\">\n",
       "  <thead>\n",
       "    <tr style=\"text-align: right;\">\n",
       "      <th></th>\n",
       "      <th>Dry Bulb Temp</th>\n",
       "      <th>Altitude</th>\n",
       "      <th>Dew Point Temp</th>\n",
       "      <th>Precipitation</th>\n",
       "      <th>Humidity</th>\n",
       "      <th>Station Pressure</th>\n",
       "      <th>Wind Speed</th>\n",
       "    </tr>\n",
       "    <tr>\n",
       "      <th>DATE</th>\n",
       "      <th></th>\n",
       "      <th></th>\n",
       "      <th></th>\n",
       "      <th></th>\n",
       "      <th></th>\n",
       "      <th></th>\n",
       "      <th></th>\n",
       "    </tr>\n",
       "  </thead>\n",
       "  <tbody>\n",
       "    <tr>\n",
       "      <th>01.01.2018 00:54</th>\n",
       "      <td>10.0</td>\n",
       "      <td>30.41</td>\n",
       "      <td>-5.0</td>\n",
       "      <td>0.0</td>\n",
       "      <td>50.0</td>\n",
       "      <td>30.38</td>\n",
       "      <td>6.0</td>\n",
       "    </tr>\n",
       "    <tr>\n",
       "      <th>01.01.2018 01:54</th>\n",
       "      <td>9.0</td>\n",
       "      <td>30.42</td>\n",
       "      <td>-5.0</td>\n",
       "      <td>0.0</td>\n",
       "      <td>52.0</td>\n",
       "      <td>30.39</td>\n",
       "      <td>7.0</td>\n",
       "    </tr>\n",
       "    <tr>\n",
       "      <th>01.01.2018 02:54</th>\n",
       "      <td>10.0</td>\n",
       "      <td>30.42</td>\n",
       "      <td>-6.0</td>\n",
       "      <td>0.0</td>\n",
       "      <td>48.0</td>\n",
       "      <td>30.39</td>\n",
       "      <td>8.0</td>\n",
       "    </tr>\n",
       "    <tr>\n",
       "      <th>01.01.2018 03:54</th>\n",
       "      <td>9.0</td>\n",
       "      <td>30.42</td>\n",
       "      <td>-6.0</td>\n",
       "      <td>0.0</td>\n",
       "      <td>50.0</td>\n",
       "      <td>30.39</td>\n",
       "      <td>7.0</td>\n",
       "    </tr>\n",
       "    <tr>\n",
       "      <th>01.01.2018 04:54</th>\n",
       "      <td>9.0</td>\n",
       "      <td>30.43</td>\n",
       "      <td>-6.0</td>\n",
       "      <td>0.0</td>\n",
       "      <td>50.0</td>\n",
       "      <td>30.40</td>\n",
       "      <td>9.0</td>\n",
       "    </tr>\n",
       "  </tbody>\n",
       "</table>\n",
       "</div>"
      ],
      "text/plain": [
       "                  Dry Bulb Temp  Altitude  Dew Point Temp  Precipitation  \\\n",
       "DATE                                                                       \n",
       "01.01.2018 00:54           10.0     30.41            -5.0            0.0   \n",
       "01.01.2018 01:54            9.0     30.42            -5.0            0.0   \n",
       "01.01.2018 02:54           10.0     30.42            -6.0            0.0   \n",
       "01.01.2018 03:54            9.0     30.42            -6.0            0.0   \n",
       "01.01.2018 04:54            9.0     30.43            -6.0            0.0   \n",
       "\n",
       "                  Humidity  Station Pressure  Wind Speed  \n",
       "DATE                                                      \n",
       "01.01.2018 00:54      50.0             30.38         6.0  \n",
       "01.01.2018 01:54      52.0             30.39         7.0  \n",
       "01.01.2018 02:54      48.0             30.39         8.0  \n",
       "01.01.2018 03:54      50.0             30.39         7.0  \n",
       "01.01.2018 04:54      50.0             30.40         9.0  "
      ]
     },
     "execution_count": 10,
     "metadata": {},
     "output_type": "execute_result"
    }
   ],
   "source": [
    "usableFeatures = [keys[i] for i in [0,1,2,3,4,5,9]]\n",
    "features = df[usableFeatures]\n",
    "features.index = df[\"DATE\"]\n",
    "features.head()"
   ]
  },
  {
   "cell_type": "code",
   "execution_count": 11,
   "metadata": {},
   "outputs": [],
   "source": [
    "x = features.values # into numpy\n",
    "scaler = MinMaxScaler()\n",
    "x_scaled = scaler.fit_transform(x)\n",
    "temp_avg = df[\"Dry Bulb Temp\"].mean()\n",
    "temp_std = df[\"Dry Bulb Temp\"].std()"
   ]
  },
  {
   "cell_type": "code",
   "execution_count": 12,
   "metadata": {},
   "outputs": [],
   "source": [
    "# Create training set and testing set\n",
    "split = int(len(df) * 0.9)\n",
    "train_set = x_scaled[:split]\n",
    "test_set = x_scaled[split:]"
   ]
  },
  {
   "cell_type": "code",
   "execution_count": 13,
   "metadata": {},
   "outputs": [],
   "source": [
    "# 12-hour prediction using last 48 hours of data\n",
    "x_train = []\n",
    "y_train = []\n",
    "n_past = 24\n",
    "n_future = 12\n",
    "\n",
    "for i in range(0, len(train_set)-n_past-n_future+1):\n",
    "    x_train.append(train_set[i:i+n_past, 0])\n",
    "    y_train.append(train_set[i+n_past:i+n_past+n_future, 0])\n",
    "    \n",
    "x_train, y_train = np.array(x_train), np.array(y_train)\n",
    "x_train = np.expand_dims(x_train, axis=-1)"
   ]
  },
  {
   "cell_type": "code",
   "execution_count": 18,
   "metadata": {
    "scrolled": false
   },
   "outputs": [
    {
     "name": "stdout",
     "output_type": "stream",
     "text": [
      "Epoch 1/25\n",
      "119/119 [==============================] - 8s 32ms/step - loss: 0.0726 - accuracy: 0.1010\n",
      "Epoch 2/25\n",
      "119/119 [==============================] - 4s 32ms/step - loss: 0.0186 - accuracy: 0.0966\n",
      "Epoch 3/25\n",
      "119/119 [==============================] - 4s 32ms/step - loss: 0.0143 - accuracy: 0.0968\n",
      "Epoch 4/25\n",
      "119/119 [==============================] - 4s 32ms/step - loss: 0.0121 - accuracy: 0.0944\n",
      "Epoch 5/25\n",
      "119/119 [==============================] - 4s 32ms/step - loss: 0.0106 - accuracy: 0.0968\n",
      "Epoch 6/25\n",
      "119/119 [==============================] - 4s 32ms/step - loss: 0.0096 - accuracy: 0.0988\n",
      "Epoch 7/25\n",
      "119/119 [==============================] - 4s 32ms/step - loss: 0.0087 - accuracy: 0.1001\n",
      "Epoch 8/25\n",
      "119/119 [==============================] - 4s 32ms/step - loss: 0.0080 - accuracy: 0.1039\n",
      "Epoch 9/25\n",
      "119/119 [==============================] - 4s 32ms/step - loss: 0.0075 - accuracy: 0.1109\n",
      "Epoch 10/25\n",
      "119/119 [==============================] - 4s 32ms/step - loss: 0.0070 - accuracy: 0.1177\n",
      "Epoch 11/25\n",
      "119/119 [==============================] - 4s 32ms/step - loss: 0.0065 - accuracy: 0.1313\n",
      "Epoch 12/25\n",
      "119/119 [==============================] - 4s 32ms/step - loss: 0.0062 - accuracy: 0.1464\n",
      "Epoch 13/25\n",
      "119/119 [==============================] - 4s 32ms/step - loss: 0.0058 - accuracy: 0.1550\n",
      "Epoch 14/25\n",
      "119/119 [==============================] - 4s 32ms/step - loss: 0.0056 - accuracy: 0.1676\n",
      "Epoch 15/25\n",
      "119/119 [==============================] - 4s 32ms/step - loss: 0.0053 - accuracy: 0.1717\n",
      "Epoch 16/25\n",
      "119/119 [==============================] - 4s 32ms/step - loss: 0.0051 - accuracy: 0.1787\n",
      "Epoch 17/25\n",
      "119/119 [==============================] - 4s 32ms/step - loss: 0.0049 - accuracy: 0.1844\n",
      "Epoch 18/25\n",
      "119/119 [==============================] - 4s 32ms/step - loss: 0.0048 - accuracy: 0.1888\n",
      "Epoch 19/25\n",
      "119/119 [==============================] - 4s 32ms/step - loss: 0.0047 - accuracy: 0.1890\n",
      "Epoch 20/25\n",
      "119/119 [==============================] - 4s 32ms/step - loss: 0.0045 - accuracy: 0.1994\n",
      "Epoch 21/25\n",
      "119/119 [==============================] - 4s 32ms/step - loss: 0.0044 - accuracy: 0.1993\n",
      "Epoch 22/25\n",
      "119/119 [==============================] - 4s 32ms/step - loss: 0.0044 - accuracy: 0.2018\n",
      "Epoch 23/25\n",
      "119/119 [==============================] - 4s 32ms/step - loss: 0.0043 - accuracy: 0.2036\n",
      "Epoch 24/25\n",
      "119/119 [==============================] - 4s 32ms/step - loss: 0.0042 - accuracy: 0.2076\n",
      "Epoch 25/25\n",
      "119/119 [==============================] - 4s 32ms/step - loss: 0.0042 - accuracy: 0.2109\n"
     ]
    },
    {
     "data": {
      "text/plain": [
       "<keras.callbacks.History at 0x7f4d8c2508b0>"
      ]
     },
     "execution_count": 18,
     "metadata": {},
     "output_type": "execute_result"
    }
   ],
   "source": [
    "class BobNet(keras.Model):\n",
    "    def __init__(self, inp_shape):  \n",
    "        super().__init__()\n",
    "        self.lstm = keras.Sequential([\n",
    "          layers.Bidirectional(layers.LSTM(units=24, input_shape=inp_shape, return_sequences=True)),\n",
    "          layers.Dropout(0.2),\n",
    "          layers.LSTM(units=24, return_sequences=True),\n",
    "          layers.Dropout(0.2),\n",
    "          layers.LSTM(units=24),\n",
    "          layers.Dropout(0.2),\n",
    "          layers.Dense(units=12, activation=\"relu\")\n",
    "        ])\n",
    "\n",
    "    def call(self, x):\n",
    "        x = self.lstm(x)\n",
    "        return x  \n",
    "\n",
    "input_shape = (x_train.shape[1], 1)\n",
    "model = BobNet(input_shape)\n",
    "model.compile(loss=\"mean_squared_error\", optimizer=\"adam\", metrics=[\"accuracy\"])\n",
    "model.fit(x_train, y_train, epochs=25, batch_size=256)"
   ]
  },
  {
   "cell_type": "code",
   "execution_count": 43,
   "metadata": {},
   "outputs": [],
   "source": [
    "# model.save(\"weather_model\")"
   ]
  },
  {
   "cell_type": "code",
   "execution_count": 19,
   "metadata": {},
   "outputs": [],
   "source": [
    "# This only tests first example\n",
    "x_test = test_set[:n_past, 0]\n",
    "x_test = np.expand_dims(x_test, axis=(0, 2))\n",
    "y_test = test_set[n_past:n_past+n_future, 0]"
   ]
  },
  {
   "cell_type": "code",
   "execution_count": 20,
   "metadata": {},
   "outputs": [
    {
     "name": "stdout",
     "output_type": "stream",
     "text": [
      "Predicted temperature [[0.7386519  0.74586457 0.746618   0.75181794 0.7551838  0.75788563\n",
      "  0.7628144  0.764688   0.7668088  0.76772106 0.76617974 0.76887584]]\n",
      "Real temperature [0.72826087 0.72826087 0.72826087 0.72826087 0.72826087 0.72826087\n",
      " 0.72826087 0.72826087 0.73913043 0.73913043 0.72826087 0.72826087]\n"
     ]
    }
   ],
   "source": [
    "y_pred = model.predict(x_test)\n",
    "print(\"Predicted temperature\", y_pred) \n",
    "print(\"Real temperature\", y_test)"
   ]
  },
  {
   "cell_type": "code",
   "execution_count": 21,
   "metadata": {},
   "outputs": [
    {
     "data": {
      "text/plain": [
       "(array([[56.88917, 56.88917, 56.88917, 56.88917, 56.88917, 56.88917,\n",
       "         56.88917, 56.88917, 56.88917, 56.88917, 56.88917, 56.88917]],\n",
       "       dtype=float32),\n",
       " array([69.4595733 , 69.4595733 , 69.4595733 , 69.4595733 , 69.4595733 ,\n",
       "        69.4595733 , 69.4595733 , 69.4595733 , 69.64719124, 69.64719124,\n",
       "        69.4595733 , 69.4595733 ]))"
      ]
     },
     "execution_count": 21,
     "metadata": {},
     "output_type": "execute_result"
    }
   ],
   "source": [
    "def convert_to_f(x):\n",
    "    return (x * temp_std) + temp_avg\n",
    "y_pred = scaler.fit_transform(y_pred)\n",
    "y_pred = convert_to_f(y_pred)\n",
    "y_test = convert_to_f(y_test)\n",
    "y_pred, y_test"
   ]
  },
  {
   "cell_type": "code",
   "execution_count": 22,
   "metadata": {},
   "outputs": [
    {
     "data": {
      "text/plain": [
       "array([[[0.72826087],\n",
       "        [0.73913043],\n",
       "        [0.75      ],\n",
       "        [0.75      ],\n",
       "        [0.76086957],\n",
       "        [0.77173913],\n",
       "        [0.77173913],\n",
       "        [0.7826087 ],\n",
       "        [0.80434783],\n",
       "        [0.79347826],\n",
       "        [0.79347826],\n",
       "        [0.79347826],\n",
       "        [0.79347826],\n",
       "        [0.7826087 ],\n",
       "        [0.77173913],\n",
       "        [0.77173913],\n",
       "        [0.77173913],\n",
       "        [0.76086957],\n",
       "        [0.75      ],\n",
       "        [0.73913043],\n",
       "        [0.72826087],\n",
       "        [0.73913043],\n",
       "        [0.73913043],\n",
       "        [0.73913043]]])"
      ]
     },
     "execution_count": 22,
     "metadata": {},
     "output_type": "execute_result"
    }
   ],
   "source": [
    "x_test"
   ]
  }
 ],
 "metadata": {
  "kernelspec": {
   "display_name": "Python 3 (ipykernel)",
   "language": "python",
   "name": "python3"
  },
  "language_info": {
   "codemirror_mode": {
    "name": "ipython",
    "version": 3
   },
   "file_extension": ".py",
   "mimetype": "text/x-python",
   "name": "python",
   "nbconvert_exporter": "python",
   "pygments_lexer": "ipython3",
   "version": "3.8.10"
  }
 },
 "nbformat": 4,
 "nbformat_minor": 4
}
