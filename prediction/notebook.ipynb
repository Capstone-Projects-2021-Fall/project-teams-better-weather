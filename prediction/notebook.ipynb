{
 "cells": [
  {
   "cell_type": "code",
   "execution_count": 6,
   "metadata": {
    "collapsed": true
   },
   "outputs": [],
   "source": [
    "import pandas as pd\n",
    "import numpy as np"
   ]
  },
  {
   "cell_type": "code",
   "execution_count": 7,
   "outputs": [
    {
     "data": {
      "text/plain": "        STATION                         NAME  LATITUDE  LONGITUDE  ELEVATION  \\\n0   USW00013739  PHILADELPHIA INTL AP, PA US   39.8683   -75.2311          3   \n1   USW00013739  PHILADELPHIA INTL AP, PA US   39.8683   -75.2311          3   \n2   USW00013739  PHILADELPHIA INTL AP, PA US   39.8683   -75.2311          3   \n3   USW00013739  PHILADELPHIA INTL AP, PA US   39.8683   -75.2311          3   \n4   USW00013739  PHILADELPHIA INTL AP, PA US   39.8683   -75.2311          3   \n5   USW00013739  PHILADELPHIA INTL AP, PA US   39.8683   -75.2311          3   \n6   USW00013739  PHILADELPHIA INTL AP, PA US   39.8683   -75.2311          3   \n7   USW00013739  PHILADELPHIA INTL AP, PA US   39.8683   -75.2311          3   \n8   USW00013739  PHILADELPHIA INTL AP, PA US   39.8683   -75.2311          3   \n9   USW00013739  PHILADELPHIA INTL AP, PA US   39.8683   -75.2311          3   \n10  USW00013739  PHILADELPHIA INTL AP, PA US   39.8683   -75.2311          3   \n11  USW00013739  PHILADELPHIA INTL AP, PA US   39.8683   -75.2311          3   \n12  USW00013739  PHILADELPHIA INTL AP, PA US   39.8683   -75.2311          3   \n13  USW00013739  PHILADELPHIA INTL AP, PA US   39.8683   -75.2311          3   \n14  USW00013739  PHILADELPHIA INTL AP, PA US   39.8683   -75.2311          3   \n15  USW00013739  PHILADELPHIA INTL AP, PA US   39.8683   -75.2311          3   \n16  USW00013739  PHILADELPHIA INTL AP, PA US   39.8683   -75.2311          3   \n17  USW00013739  PHILADELPHIA INTL AP, PA US   39.8683   -75.2311          3   \n18  USW00013739  PHILADELPHIA INTL AP, PA US   39.8683   -75.2311          3   \n19  USW00013739  PHILADELPHIA INTL AP, PA US   39.8683   -75.2311          3   \n\n              DATE  month  day  hour  HLY-TEMP-NORMAL  ...  HLY-HIDX-NORMAL  \\\n0   01-01T00:00:00      1    1     0             34.5  ...             34.5   \n1   01-01T01:00:00      1    1     1             34.2  ...             34.2   \n2   01-01T02:00:00      1    1     2             33.7  ...             33.7   \n3   01-01T03:00:00      1    1     3             33.4  ...             33.4   \n4   01-01T04:00:00      1    1     4             33.2  ...             33.2   \n5   01-01T05:00:00      1    1     5             33.1  ...             33.1   \n6   01-01T06:00:00      1    1     6             33.0  ...             33.0   \n7   01-01T07:00:00      1    1     7             33.0  ...             33.0   \n8   01-01T08:00:00      1    1     8             33.3  ...             33.3   \n9   01-01T09:00:00      1    1     9             34.7  ...             34.7   \n10  01-01T10:00:00      1    1    10             36.3  ...             36.3   \n11  01-01T11:00:00      1    1    11             37.9  ...             37.9   \n12  01-01T12:00:00      1    1    12             39.2  ...             39.2   \n13  01-01T13:00:00      1    1    13             40.2  ...             40.2   \n14  01-01T14:00:00      1    1    14             40.8  ...             40.8   \n15  01-01T15:00:00      1    1    15             41.0  ...             41.0   \n16  01-01T16:00:00      1    1    16             40.4  ...             40.4   \n17  01-01T17:00:00      1    1    17             39.2  ...             39.2   \n18  01-01T18:00:00      1    1    18             38.1  ...             38.1   \n19  01-01T19:00:00      1    1    19             37.5  ...             37.5   \n\n    HLY-WCHL-NORMAL  HLY-WIND-AVGSPD  HLY-WIND-PCTCLM  HLY-WIND-VCTDIR  \\\n0              28.1              8.8             10.4              296   \n1              27.9              8.7             13.1              294   \n2              27.6              8.4             13.3              297   \n3              27.3              8.2             14.0              295   \n4              26.8              8.5             10.9              296   \n5              26.9              8.4             13.1              293   \n6              26.5              8.8             11.3              291   \n7              26.3              9.0              7.3              285   \n8              26.6              9.1             10.0              288   \n9              27.9              9.8              6.9              292   \n10             29.4             10.9              5.6              297   \n11             31.1             11.5              4.4              296   \n12             32.6             12.1              2.7              293   \n13             33.9             12.3              3.1              291   \n14             34.6             12.2              3.8              290   \n15             34.8             12.2              2.0              290   \n16             34.3             11.4              3.3              291   \n17             32.9             10.5              2.7              293   \n18             31.8             10.0              3.8              290   \n19             31.2              9.7              4.0              290   \n\n    HLY-WIND-VCTSPD  HLY-WIND-1STDIR  HLY-WIND-1STPCT  HLY-WIND-2NDDIR  \\\n0               4.1                8             20.5                7   \n1               4.2                7             21.6                8   \n2               4.2                7             20.6                8   \n3               4.1                7             22.7                8   \n4               4.3                7             22.7                8   \n5               4.0                7             21.8                8   \n6               4.1                7             23.0                8   \n7               4.0                7             26.1                8   \n8               4.3                7             23.2                8   \n9               4.8                7             23.3                8   \n10              5.5                8             22.8                7   \n11              6.4                8             24.7                7   \n12              6.7                7             22.7                8   \n13              7.0                8             25.2                7   \n14              7.1                8             24.6                7   \n15              7.0                8             26.9                7   \n16              6.5                7             25.4                8   \n17              5.6                8             26.5                7   \n18              5.0                7             26.9                8   \n19              4.4                7             25.3                8   \n\n    HLY-WIND-2NDPCT  \n0              19.1  \n1              18.5  \n2              20.1  \n3              17.1  \n4              19.7  \n5              18.3  \n6              17.0  \n7              17.7  \n8              17.2  \n9              19.7  \n10             20.9  \n11             20.7  \n12             22.4  \n13             20.7  \n14             24.0  \n15             21.9  \n16             22.6  \n17             24.0  \n18             23.3  \n19             21.5  \n\n[20 rows x 35 columns]",
      "text/html": "<div>\n<style scoped>\n    .dataframe tbody tr th:only-of-type {\n        vertical-align: middle;\n    }\n\n    .dataframe tbody tr th {\n        vertical-align: top;\n    }\n\n    .dataframe thead th {\n        text-align: right;\n    }\n</style>\n<table border=\"1\" class=\"dataframe\">\n  <thead>\n    <tr style=\"text-align: right;\">\n      <th></th>\n      <th>STATION</th>\n      <th>NAME</th>\n      <th>LATITUDE</th>\n      <th>LONGITUDE</th>\n      <th>ELEVATION</th>\n      <th>DATE</th>\n      <th>month</th>\n      <th>day</th>\n      <th>hour</th>\n      <th>HLY-TEMP-NORMAL</th>\n      <th>...</th>\n      <th>HLY-HIDX-NORMAL</th>\n      <th>HLY-WCHL-NORMAL</th>\n      <th>HLY-WIND-AVGSPD</th>\n      <th>HLY-WIND-PCTCLM</th>\n      <th>HLY-WIND-VCTDIR</th>\n      <th>HLY-WIND-VCTSPD</th>\n      <th>HLY-WIND-1STDIR</th>\n      <th>HLY-WIND-1STPCT</th>\n      <th>HLY-WIND-2NDDIR</th>\n      <th>HLY-WIND-2NDPCT</th>\n    </tr>\n  </thead>\n  <tbody>\n    <tr>\n      <th>0</th>\n      <td>USW00013739</td>\n      <td>PHILADELPHIA INTL AP, PA US</td>\n      <td>39.8683</td>\n      <td>-75.2311</td>\n      <td>3</td>\n      <td>01-01T00:00:00</td>\n      <td>1</td>\n      <td>1</td>\n      <td>0</td>\n      <td>34.5</td>\n      <td>...</td>\n      <td>34.5</td>\n      <td>28.1</td>\n      <td>8.8</td>\n      <td>10.4</td>\n      <td>296</td>\n      <td>4.1</td>\n      <td>8</td>\n      <td>20.5</td>\n      <td>7</td>\n      <td>19.1</td>\n    </tr>\n    <tr>\n      <th>1</th>\n      <td>USW00013739</td>\n      <td>PHILADELPHIA INTL AP, PA US</td>\n      <td>39.8683</td>\n      <td>-75.2311</td>\n      <td>3</td>\n      <td>01-01T01:00:00</td>\n      <td>1</td>\n      <td>1</td>\n      <td>1</td>\n      <td>34.2</td>\n      <td>...</td>\n      <td>34.2</td>\n      <td>27.9</td>\n      <td>8.7</td>\n      <td>13.1</td>\n      <td>294</td>\n      <td>4.2</td>\n      <td>7</td>\n      <td>21.6</td>\n      <td>8</td>\n      <td>18.5</td>\n    </tr>\n    <tr>\n      <th>2</th>\n      <td>USW00013739</td>\n      <td>PHILADELPHIA INTL AP, PA US</td>\n      <td>39.8683</td>\n      <td>-75.2311</td>\n      <td>3</td>\n      <td>01-01T02:00:00</td>\n      <td>1</td>\n      <td>1</td>\n      <td>2</td>\n      <td>33.7</td>\n      <td>...</td>\n      <td>33.7</td>\n      <td>27.6</td>\n      <td>8.4</td>\n      <td>13.3</td>\n      <td>297</td>\n      <td>4.2</td>\n      <td>7</td>\n      <td>20.6</td>\n      <td>8</td>\n      <td>20.1</td>\n    </tr>\n    <tr>\n      <th>3</th>\n      <td>USW00013739</td>\n      <td>PHILADELPHIA INTL AP, PA US</td>\n      <td>39.8683</td>\n      <td>-75.2311</td>\n      <td>3</td>\n      <td>01-01T03:00:00</td>\n      <td>1</td>\n      <td>1</td>\n      <td>3</td>\n      <td>33.4</td>\n      <td>...</td>\n      <td>33.4</td>\n      <td>27.3</td>\n      <td>8.2</td>\n      <td>14.0</td>\n      <td>295</td>\n      <td>4.1</td>\n      <td>7</td>\n      <td>22.7</td>\n      <td>8</td>\n      <td>17.1</td>\n    </tr>\n    <tr>\n      <th>4</th>\n      <td>USW00013739</td>\n      <td>PHILADELPHIA INTL AP, PA US</td>\n      <td>39.8683</td>\n      <td>-75.2311</td>\n      <td>3</td>\n      <td>01-01T04:00:00</td>\n      <td>1</td>\n      <td>1</td>\n      <td>4</td>\n      <td>33.2</td>\n      <td>...</td>\n      <td>33.2</td>\n      <td>26.8</td>\n      <td>8.5</td>\n      <td>10.9</td>\n      <td>296</td>\n      <td>4.3</td>\n      <td>7</td>\n      <td>22.7</td>\n      <td>8</td>\n      <td>19.7</td>\n    </tr>\n    <tr>\n      <th>5</th>\n      <td>USW00013739</td>\n      <td>PHILADELPHIA INTL AP, PA US</td>\n      <td>39.8683</td>\n      <td>-75.2311</td>\n      <td>3</td>\n      <td>01-01T05:00:00</td>\n      <td>1</td>\n      <td>1</td>\n      <td>5</td>\n      <td>33.1</td>\n      <td>...</td>\n      <td>33.1</td>\n      <td>26.9</td>\n      <td>8.4</td>\n      <td>13.1</td>\n      <td>293</td>\n      <td>4.0</td>\n      <td>7</td>\n      <td>21.8</td>\n      <td>8</td>\n      <td>18.3</td>\n    </tr>\n    <tr>\n      <th>6</th>\n      <td>USW00013739</td>\n      <td>PHILADELPHIA INTL AP, PA US</td>\n      <td>39.8683</td>\n      <td>-75.2311</td>\n      <td>3</td>\n      <td>01-01T06:00:00</td>\n      <td>1</td>\n      <td>1</td>\n      <td>6</td>\n      <td>33.0</td>\n      <td>...</td>\n      <td>33.0</td>\n      <td>26.5</td>\n      <td>8.8</td>\n      <td>11.3</td>\n      <td>291</td>\n      <td>4.1</td>\n      <td>7</td>\n      <td>23.0</td>\n      <td>8</td>\n      <td>17.0</td>\n    </tr>\n    <tr>\n      <th>7</th>\n      <td>USW00013739</td>\n      <td>PHILADELPHIA INTL AP, PA US</td>\n      <td>39.8683</td>\n      <td>-75.2311</td>\n      <td>3</td>\n      <td>01-01T07:00:00</td>\n      <td>1</td>\n      <td>1</td>\n      <td>7</td>\n      <td>33.0</td>\n      <td>...</td>\n      <td>33.0</td>\n      <td>26.3</td>\n      <td>9.0</td>\n      <td>7.3</td>\n      <td>285</td>\n      <td>4.0</td>\n      <td>7</td>\n      <td>26.1</td>\n      <td>8</td>\n      <td>17.7</td>\n    </tr>\n    <tr>\n      <th>8</th>\n      <td>USW00013739</td>\n      <td>PHILADELPHIA INTL AP, PA US</td>\n      <td>39.8683</td>\n      <td>-75.2311</td>\n      <td>3</td>\n      <td>01-01T08:00:00</td>\n      <td>1</td>\n      <td>1</td>\n      <td>8</td>\n      <td>33.3</td>\n      <td>...</td>\n      <td>33.3</td>\n      <td>26.6</td>\n      <td>9.1</td>\n      <td>10.0</td>\n      <td>288</td>\n      <td>4.3</td>\n      <td>7</td>\n      <td>23.2</td>\n      <td>8</td>\n      <td>17.2</td>\n    </tr>\n    <tr>\n      <th>9</th>\n      <td>USW00013739</td>\n      <td>PHILADELPHIA INTL AP, PA US</td>\n      <td>39.8683</td>\n      <td>-75.2311</td>\n      <td>3</td>\n      <td>01-01T09:00:00</td>\n      <td>1</td>\n      <td>1</td>\n      <td>9</td>\n      <td>34.7</td>\n      <td>...</td>\n      <td>34.7</td>\n      <td>27.9</td>\n      <td>9.8</td>\n      <td>6.9</td>\n      <td>292</td>\n      <td>4.8</td>\n      <td>7</td>\n      <td>23.3</td>\n      <td>8</td>\n      <td>19.7</td>\n    </tr>\n    <tr>\n      <th>10</th>\n      <td>USW00013739</td>\n      <td>PHILADELPHIA INTL AP, PA US</td>\n      <td>39.8683</td>\n      <td>-75.2311</td>\n      <td>3</td>\n      <td>01-01T10:00:00</td>\n      <td>1</td>\n      <td>1</td>\n      <td>10</td>\n      <td>36.3</td>\n      <td>...</td>\n      <td>36.3</td>\n      <td>29.4</td>\n      <td>10.9</td>\n      <td>5.6</td>\n      <td>297</td>\n      <td>5.5</td>\n      <td>8</td>\n      <td>22.8</td>\n      <td>7</td>\n      <td>20.9</td>\n    </tr>\n    <tr>\n      <th>11</th>\n      <td>USW00013739</td>\n      <td>PHILADELPHIA INTL AP, PA US</td>\n      <td>39.8683</td>\n      <td>-75.2311</td>\n      <td>3</td>\n      <td>01-01T11:00:00</td>\n      <td>1</td>\n      <td>1</td>\n      <td>11</td>\n      <td>37.9</td>\n      <td>...</td>\n      <td>37.9</td>\n      <td>31.1</td>\n      <td>11.5</td>\n      <td>4.4</td>\n      <td>296</td>\n      <td>6.4</td>\n      <td>8</td>\n      <td>24.7</td>\n      <td>7</td>\n      <td>20.7</td>\n    </tr>\n    <tr>\n      <th>12</th>\n      <td>USW00013739</td>\n      <td>PHILADELPHIA INTL AP, PA US</td>\n      <td>39.8683</td>\n      <td>-75.2311</td>\n      <td>3</td>\n      <td>01-01T12:00:00</td>\n      <td>1</td>\n      <td>1</td>\n      <td>12</td>\n      <td>39.2</td>\n      <td>...</td>\n      <td>39.2</td>\n      <td>32.6</td>\n      <td>12.1</td>\n      <td>2.7</td>\n      <td>293</td>\n      <td>6.7</td>\n      <td>7</td>\n      <td>22.7</td>\n      <td>8</td>\n      <td>22.4</td>\n    </tr>\n    <tr>\n      <th>13</th>\n      <td>USW00013739</td>\n      <td>PHILADELPHIA INTL AP, PA US</td>\n      <td>39.8683</td>\n      <td>-75.2311</td>\n      <td>3</td>\n      <td>01-01T13:00:00</td>\n      <td>1</td>\n      <td>1</td>\n      <td>13</td>\n      <td>40.2</td>\n      <td>...</td>\n      <td>40.2</td>\n      <td>33.9</td>\n      <td>12.3</td>\n      <td>3.1</td>\n      <td>291</td>\n      <td>7.0</td>\n      <td>8</td>\n      <td>25.2</td>\n      <td>7</td>\n      <td>20.7</td>\n    </tr>\n    <tr>\n      <th>14</th>\n      <td>USW00013739</td>\n      <td>PHILADELPHIA INTL AP, PA US</td>\n      <td>39.8683</td>\n      <td>-75.2311</td>\n      <td>3</td>\n      <td>01-01T14:00:00</td>\n      <td>1</td>\n      <td>1</td>\n      <td>14</td>\n      <td>40.8</td>\n      <td>...</td>\n      <td>40.8</td>\n      <td>34.6</td>\n      <td>12.2</td>\n      <td>3.8</td>\n      <td>290</td>\n      <td>7.1</td>\n      <td>8</td>\n      <td>24.6</td>\n      <td>7</td>\n      <td>24.0</td>\n    </tr>\n    <tr>\n      <th>15</th>\n      <td>USW00013739</td>\n      <td>PHILADELPHIA INTL AP, PA US</td>\n      <td>39.8683</td>\n      <td>-75.2311</td>\n      <td>3</td>\n      <td>01-01T15:00:00</td>\n      <td>1</td>\n      <td>1</td>\n      <td>15</td>\n      <td>41.0</td>\n      <td>...</td>\n      <td>41.0</td>\n      <td>34.8</td>\n      <td>12.2</td>\n      <td>2.0</td>\n      <td>290</td>\n      <td>7.0</td>\n      <td>8</td>\n      <td>26.9</td>\n      <td>7</td>\n      <td>21.9</td>\n    </tr>\n    <tr>\n      <th>16</th>\n      <td>USW00013739</td>\n      <td>PHILADELPHIA INTL AP, PA US</td>\n      <td>39.8683</td>\n      <td>-75.2311</td>\n      <td>3</td>\n      <td>01-01T16:00:00</td>\n      <td>1</td>\n      <td>1</td>\n      <td>16</td>\n      <td>40.4</td>\n      <td>...</td>\n      <td>40.4</td>\n      <td>34.3</td>\n      <td>11.4</td>\n      <td>3.3</td>\n      <td>291</td>\n      <td>6.5</td>\n      <td>7</td>\n      <td>25.4</td>\n      <td>8</td>\n      <td>22.6</td>\n    </tr>\n    <tr>\n      <th>17</th>\n      <td>USW00013739</td>\n      <td>PHILADELPHIA INTL AP, PA US</td>\n      <td>39.8683</td>\n      <td>-75.2311</td>\n      <td>3</td>\n      <td>01-01T17:00:00</td>\n      <td>1</td>\n      <td>1</td>\n      <td>17</td>\n      <td>39.2</td>\n      <td>...</td>\n      <td>39.2</td>\n      <td>32.9</td>\n      <td>10.5</td>\n      <td>2.7</td>\n      <td>293</td>\n      <td>5.6</td>\n      <td>8</td>\n      <td>26.5</td>\n      <td>7</td>\n      <td>24.0</td>\n    </tr>\n    <tr>\n      <th>18</th>\n      <td>USW00013739</td>\n      <td>PHILADELPHIA INTL AP, PA US</td>\n      <td>39.8683</td>\n      <td>-75.2311</td>\n      <td>3</td>\n      <td>01-01T18:00:00</td>\n      <td>1</td>\n      <td>1</td>\n      <td>18</td>\n      <td>38.1</td>\n      <td>...</td>\n      <td>38.1</td>\n      <td>31.8</td>\n      <td>10.0</td>\n      <td>3.8</td>\n      <td>290</td>\n      <td>5.0</td>\n      <td>7</td>\n      <td>26.9</td>\n      <td>8</td>\n      <td>23.3</td>\n    </tr>\n    <tr>\n      <th>19</th>\n      <td>USW00013739</td>\n      <td>PHILADELPHIA INTL AP, PA US</td>\n      <td>39.8683</td>\n      <td>-75.2311</td>\n      <td>3</td>\n      <td>01-01T19:00:00</td>\n      <td>1</td>\n      <td>1</td>\n      <td>19</td>\n      <td>37.5</td>\n      <td>...</td>\n      <td>37.5</td>\n      <td>31.2</td>\n      <td>9.7</td>\n      <td>4.0</td>\n      <td>290</td>\n      <td>4.4</td>\n      <td>7</td>\n      <td>25.3</td>\n      <td>8</td>\n      <td>21.5</td>\n    </tr>\n  </tbody>\n</table>\n<p>20 rows × 35 columns</p>\n</div>"
     },
     "execution_count": 7,
     "metadata": {},
     "output_type": "execute_result"
    }
   ],
   "source": [
    "df = pd.read_csv('Resources/phillyWeatherCleanerd.csv')\n",
    "df.head(20)"
   ],
   "metadata": {
    "collapsed": false,
    "pycharm": {
     "name": "#%%\n"
    }
   }
  },
  {
   "cell_type": "code",
   "execution_count": 8,
   "outputs": [
    {
     "name": "stdout",
     "output_type": "stream",
     "text": [
      "STATION\n",
      "NAME\n",
      "LATITUDE\n",
      "LONGITUDE\n",
      "ELEVATION\n",
      "DATE\n",
      "month\n",
      "day\n",
      "hour\n",
      "HLY-TEMP-NORMAL\n",
      "HLY-TEMP-10PCTL\n",
      "HLY-TEMP-90PCTL\n",
      "HLY-DEWP-NORMAL\n",
      "HLY-DEWP-10PCTL\n",
      "HLY-DEWP-90PCTL\n",
      "HLY-PRES-NORMAL\n",
      "HLY-PRES-10PCTL\n",
      "HLY-PRES-90PCTL\n",
      "HLY-CLDH-NORMAL\n",
      "HLY-HTDH-NORMAL\n",
      "HLY-CLOD-PCTCLR\n",
      "HLY-CLOD-PCTFEW\n",
      "HLY-CLOD-PCTSCT\n",
      "HLY-CLOD-PCTBKN\n",
      "HLY-CLOD-PCTOVC\n",
      "HLY-HIDX-NORMAL\n",
      "HLY-WCHL-NORMAL\n",
      "HLY-WIND-AVGSPD\n",
      "HLY-WIND-PCTCLM\n",
      "HLY-WIND-VCTDIR\n",
      "HLY-WIND-VCTSPD\n",
      "HLY-WIND-1STDIR\n",
      "HLY-WIND-1STPCT\n",
      "HLY-WIND-2NDDIR\n",
      "HLY-WIND-2NDPCT\n"
     ]
    }
   ],
   "source": [
    "for col in df.columns:\n",
    "    print(col)"
   ],
   "metadata": {
    "collapsed": false,
    "pycharm": {
     "name": "#%%\n"
    }
   }
  }
 ],
 "metadata": {
  "kernelspec": {
   "display_name": "Python 3",
   "language": "python",
   "name": "python3"
  },
  "language_info": {
   "codemirror_mode": {
    "name": "ipython",
    "version": 2
   },
   "file_extension": ".py",
   "mimetype": "text/x-python",
   "name": "python",
   "nbconvert_exporter": "python",
   "pygments_lexer": "ipython2",
   "version": "2.7.6"
  }
 },
 "nbformat": 4,
 "nbformat_minor": 0
}